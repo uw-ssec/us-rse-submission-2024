{
 "cells": [
  {
   "cell_type": "markdown",
   "id": "ce91ba40-0f53-4fc0-b687-a385a4c36a10",
   "metadata": {},
   "source": [
    "# Qdrant Vector Database Creation"
   ]
  },
  {
   "cell_type": "code",
   "execution_count": null,
   "id": "26843ee7-eb3f-48df-bee7-125b994ce25e",
   "metadata": {},
   "outputs": [],
   "source": [
    "import os\n",
    "import requests\n",
    "\n",
    "from getpass import getpass\n",
    "from langchain.embeddings import HuggingFaceEmbeddings\n",
    "from langchain.schema import Document\n",
    "from langchain_community.vectorstores import Qdrant\n",
    "from llama_cpp import Llama\n",
    "#import matplotlib.pyplot as plt\n",
    "import pandas as pd\n",
    "from tqdm.notebook import tqdm\n",
    "from qdrant_client import QdrantClient"
   ]
  },
  {
   "cell_type": "markdown",
   "id": "6446cc91-5e3a-429f-9ead-a38bbf1cf230",
   "metadata": {},
   "source": [
    "## GitHub Documents"
   ]
  },
  {
   "cell_type": "code",
   "execution_count": null,
   "id": "9cee387e-ad9a-49a8-9ced-7ae8f9b8d9a0",
   "metadata": {},
   "outputs": [],
   "source": [
    "# Enter your GitHub Personal Access Token securely\n",
    "ACCESS_TOKEN=getpass(prompt=\"GitHub Personal Access Token: \")"
   ]
  },
  {
   "cell_type": "code",
   "execution_count": 1,
   "id": "5f55fb43-c229-4acc-936a-87f20d20d8d1",
   "metadata": {},
   "outputs": [],
   "source": [
    "#@limits(calls=, period=60)\n",
    "def fetch_file(file_url):\n",
    "    response = requests.get(file_url, headers={'Accept': 'application/vnd.github.v3.raw', 'Authorization': f'token {ACCESS_TOKEN}'})\n",
    "    response.raise_for_status()\n",
    "    return response\n",
    "\n",
    "#@limits(calls=100, period=60)\n",
    "def fetch_folder(base_url, headers):\n",
    "    response = requests.get(base_url, headers=headers)\n",
    "    response.raise_for_status()  # This will raise an error for failed requests\n",
    "    return response\n",
    "\n",
    "\n",
    "def fetch_and_process_rst_files(repo, branch, path):\n",
    "    \"\"\"\n",
    "    Recursively fetch and process RST files from a GitHub repository.\n",
    "    \"\"\"\n",
    "    base_url = f\"https://api.github.com/repos/{repo}/contents/{path}?ref={branch}\"\n",
    "    headers = {'Accept': 'application/vnd.github.v3+json', 'Authorization': f'token {ACCESS_TOKEN}'}\n",
    "    response = fetch_folder(base_url, headers)\n",
    "    files = response.json()\n",
    "\n",
    "    documents = []\n",
    "    for file in files:\n",
    "        if file['type'] == 'dir':  # This is a directory; recurse into it\n",
    "            documents.extend(fetch_and_process_rst_files(repo, branch, file['path']))\n",
    "        elif file['name'].endswith('.rst'):\n",
    "            file_url = file['download_url']\n",
    "            response = fetch_file(file_url)\n",
    "            title = file['name'].replace('.rst', '').replace('_', ' ').title()\n",
    "            documents.append(Document(page_content=response.text, metadata={\"title\": title, \"url\": file_url}))\n",
    "\n",
    "    return documents\n",
    "        "
   ]
  },
  {
   "cell_type": "code",
   "execution_count": null,
   "id": "f28805cc-c3c5-4ad4-969e-190cc55b0bcb",
   "metadata": {},
   "outputs": [],
   "source": [
    "# Usage example\n",
    "repository = 'boto/boto3'\n",
    "branch = 'develop'\n",
    "docs_path = 'docs'"
   ]
  },
  {
   "cell_type": "code",
   "execution_count": null,
   "id": "e848a168-b3a9-48c8-a6ee-34940a18db2f",
   "metadata": {},
   "outputs": [],
   "source": [
    "github_documents = fetch_and_process_rst_files(\n",
    "    repo=repository, \n",
    "    branch=branch, \n",
    "    path=docs_path,\n",
    ")"
   ]
  },
  {
   "cell_type": "code",
   "execution_count": null,
   "id": "ef991fd7-fa91-4fb3-b189-cc3d521f6832",
   "metadata": {},
   "outputs": [],
   "source": [
    "len(github_documents)"
   ]
  },
  {
   "cell_type": "code",
   "execution_count": null,
   "id": "9500fc61",
   "metadata": {},
   "outputs": [],
   "source": [
    "github_documents[0]"
   ]
  },
  {
   "cell_type": "code",
   "execution_count": null,
   "id": "e744a104",
   "metadata": {},
   "outputs": [],
   "source": [
    "gh_s = pd.Series(github_documents)\n",
    "gh_s.to_pickle('resources/data/boto3_docs.pkl')"
   ]
  },
  {
   "cell_type": "code",
   "execution_count": null,
   "id": "e6adbd0d",
   "metadata": {},
   "outputs": [],
   "source": [
    "gh_df.to_list()"
   ]
  },
  {
   "cell_type": "markdown",
   "id": "a5730eb8-7738-4099-be24-a5d2c1f4fd90",
   "metadata": {},
   "source": [
    "### Documents Loader"
   ]
  },
  {
   "cell_type": "code",
   "execution_count": null,
   "id": "2a662354",
   "metadata": {},
   "outputs": [],
   "source": []
  },
  {
   "cell_type": "markdown",
   "id": "44d819f9-df1f-4fb1-9b82-5c438a274873",
   "metadata": {},
   "source": [
    "LangChain helps load different documents (.txt, .pdf, .docx, .csv, .xlsx, .json) to feed into the LLM. The Document Loader even allows YouTube audio parsing and loading as part of unstructured document loading.\n",
    "\n",
    "Once loaded into the LangChain, the document can be pre-processed in different ways as required in the LLM application.  "
   ]
  },
  {
   "cell_type": "code",
   "execution_count": null,
   "id": "6e403f62-fc91-4be9-9d45-292190c221fd",
   "metadata": {},
   "outputs": [],
   "source": [
    "from langchain_community.document_loaders import DataFrameLoader"
   ]
  },
  {
   "cell_type": "code",
   "execution_count": null,
   "id": "bd8cd94b-474e-49a5-956e-27f89e65fca4",
   "metadata": {},
   "outputs": [],
   "source": [
    "# Load the dataframe full of abstracts\n",
    "# to memory in the form of LangChain Document objects\n",
    "loader = DataFrameLoader(astro_df, page_content_column=\"abstract\") \n",
    "astrophysics_abstracts_documents = loader.load()"
   ]
  },
  {
   "cell_type": "code",
   "execution_count": null,
   "id": "8de58aaa-4cae-45b7-bf55-dc00739c94a8",
   "metadata": {},
   "outputs": [],
   "source": [
    "print(\"Number of astrophysics papers: \", len(astrophysics_abstracts_documents))"
   ]
  },
  {
   "cell_type": "code",
   "execution_count": null,
   "id": "138995f7-5bba-43b9-ba7a-ab8ef9b16c21",
   "metadata": {},
   "outputs": [],
   "source": [
    "all_documents = github_documents\n",
    "print(\"Total Number of Documents: \", len(all_documents))"
   ]
  },
  {
   "cell_type": "markdown",
   "id": "16d1ebe7-8e12-4e2f-97d2-55074673aa37",
   "metadata": {},
   "source": [
    "## Qdrant Creation"
   ]
  },
  {
   "cell_type": "code",
   "execution_count": null,
   "id": "fdfe9f2e",
   "metadata": {},
   "outputs": [],
   "source": [
    "gh_df = pd.read_pickle('resources/data/boto3_docs.pkl')"
   ]
  },
  {
   "cell_type": "code",
   "execution_count": null,
   "id": "901dcab4-2a76-48d3-94b8-01b571311d79",
   "metadata": {},
   "outputs": [],
   "source": [
    "# TODO: Fix the path\n",
    "qdrant_path = \"resources/data/qdrant/usrse_qdrant/\"\n",
    "qdrant_collection = \"boto3_docs\""
   ]
  },
  {
   "cell_type": "code",
   "execution_count": null,
   "id": "95f2d75f",
   "metadata": {},
   "outputs": [],
   "source": []
  },
  {
   "cell_type": "code",
   "execution_count": null,
   "id": "be5c185b-c033-4058-989e-2b7c48138195",
   "metadata": {},
   "outputs": [],
   "source": [
    "model = HuggingFaceEmbeddings(model_name=\"sentence-transformers/all-MiniLM-L6-v2\")"
   ]
  },
  {
   "cell_type": "code",
   "execution_count": null,
   "id": "f8791db7",
   "metadata": {},
   "outputs": [],
   "source": [
    "from langchain_text_splitters import MarkdownTextSplitter\n",
    "\n",
    "#text_splitter = MarkdownTextSplitter(chunk_size=512, chunk_overlap=0)\n",
    "text_splitter = MarkdownTextSplitter()\n",
    "texts = text_splitter.split_documents(gh_df)\n",
    "\n",
    "print(\"Number of text chunks: \", len(texts))"
   ]
  },
  {
   "cell_type": "code",
   "execution_count": null,
   "id": "6202ff82-c219-4c17-b960-c6d34231db08",
   "metadata": {},
   "outputs": [],
   "source": [
    "print(f\"Creating new Qdrant collection '{qdrant_collection}' from {len(texts)} documents\")\n",
    "    \n",
    "# Load the documents into a Qdrant Vector Database Collection\n",
    "# this will save locally in the current directory as sqlite\n",
    "qdrant = Qdrant.from_documents(\n",
    "    documents=texts,\n",
    "    embedding=model,\n",
    "    path=qdrant_path,\n",
    "    collection_name=qdrant_collection,\n",
    ")"
   ]
  },
  {
   "cell_type": "code",
   "execution_count": null,
   "id": "578b5a20-a2e9-4006-a514-9a544f4e502e",
   "metadata": {},
   "outputs": [],
   "source": [
    "# Setup the retriever for later step\n",
    "retriever = qdrant.as_retriever(search_type=\"mmr\", search_kwargs={\"k\": 2})"
   ]
  },
  {
   "cell_type": "code",
   "execution_count": null,
   "id": "323b976a-c7cc-4d86-9050-311b926d22c7",
   "metadata": {},
   "outputs": [],
   "source": [
    "retriever.invoke(\"How can I create an SQS queue?\")"
   ]
  },
  {
   "cell_type": "code",
   "execution_count": null,
   "id": "e668bc7c-2eba-4329-aa4b-5c9866885f55",
   "metadata": {},
   "outputs": [],
   "source": [
    "retriever.invoke(\"How can I perform celestial coordinate transformations?\")"
   ]
  },
  {
   "cell_type": "code",
   "execution_count": null,
   "id": "41f53e82-eee2-452a-932f-a5081c7fbe3c",
   "metadata": {},
   "outputs": [],
   "source": [
    "# Post-processing\n",
    "def format_docs(docs):\n",
    "    return \"\\n\\n\".join(doc.page_content for doc in docs)"
   ]
  },
  {
   "cell_type": "code",
   "execution_count": null,
   "id": "b189a1f7-a7b0-456f-ac34-794fec521617",
   "metadata": {},
   "outputs": [],
   "source": [
    "print(format_docs(retriever.invoke(\"How do I create a DynamoDB table?\")))"
   ]
  },
  {
   "cell_type": "code",
   "execution_count": null,
   "id": "2403e158-85b8-4a5a-aa0f-8428fb133d9d",
   "metadata": {},
   "outputs": [],
   "source": [
    "qdrant = None"
   ]
  }
 ],
 "metadata": {
  "kernelspec": {
   "display_name": "Python 3 (ipykernel)",
   "language": "python",
   "name": "python3"
  },
  "language_info": {
   "codemirror_mode": {
    "name": "ipython",
    "version": 3
   },
   "file_extension": ".py",
   "mimetype": "text/x-python",
   "name": "python",
   "nbconvert_exporter": "python",
   "pygments_lexer": "ipython3",
   "version": "3.11.9"
  }
 },
 "nbformat": 4,
 "nbformat_minor": 5
}
