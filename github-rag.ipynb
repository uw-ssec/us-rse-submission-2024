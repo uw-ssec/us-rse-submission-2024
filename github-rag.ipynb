{
 "cells": [
  {
   "cell_type": "markdown",
   "metadata": {},
   "source": [
    "# Retrieval Augmented Generation - make your own local chat from github docs\n"
   ]
  },
  {
   "cell_type": "markdown",
   "metadata": {},
   "source": [
    "\n",
    "## Intro\n"
   ]
  },
  {
   "cell_type": "markdown",
   "metadata": {},
   "source": [
    "## Baking our final results\n"
   ]
  },
  {
   "cell_type": "code",
   "execution_count": 1,
   "metadata": {},
   "outputs": [],
   "source": [
    "import pandas as pd\n",
    "\n",
    "astro_ph_df = pd.read_pickle(\"resources/data/astro-ph-arXiv-abstracts.pkl\")"
   ]
  },
  {
   "cell_type": "code",
   "execution_count": 2,
   "metadata": {},
   "outputs": [
    {
     "name": "stderr",
     "output_type": "stream",
     "text": [
      "/opt/homebrew/anaconda3/envs/ssec-usrse2024/lib/python3.11/site-packages/sentence_transformers/cross_encoder/CrossEncoder.py:11: TqdmExperimentalWarning: Using `tqdm.autonotebook.tqdm` in notebook mode. Use `tqdm.tqdm` instead to force console mode (e.g. in jupyter console)\n",
      "  from tqdm.autonotebook import tqdm, trange\n"
     ]
    },
    {
     "name": "stdout",
     "output_type": "stream",
     "text": [
      "Loading existing Qdrant collection 'arxiv_astro-ph_abstracts'\n"
     ]
    }
   ],
   "source": [
    "from langchain import PromptTemplate\n",
    "from llama_cpp import Llama\n",
    "\n",
    "from langchain_community.llms import LlamaCpp\n",
    "from langchain_core.callbacks import StreamingStdOutCallbackHandler\n",
    "\n",
    "from ssec_usrse2024 import OLMO_MODEL\n",
    "\n",
    "from langchain_community.embeddings import HuggingFaceEmbeddings\n",
    "from sentence_transformers import SentenceTransformer, util\n",
    "\n",
    "import os\n",
    "\n",
    "from langchain_community.vectorstores import Qdrant\n",
    "from langchain.embeddings import HuggingFaceEmbeddings\n",
    "\n",
    "from qdrant_client import QdrantClient\n",
    "\n",
    "olmo = LlamaCpp(\n",
    "    model_path=str(OLMO_MODEL),\n",
    "    temperature=0.8,\n",
    "    verbose=False,  \n",
    ")\n",
    "\n",
    "prompt_template = PromptTemplate.from_template(\n",
    "    template=olmo.client.metadata['tokenizer.chat_template'], \n",
    "    template_format=\"jinja2\"\n",
    ")\n",
    "\n",
    "\n",
    "\n",
    "def ask_question(question):\n",
    "    print(f\"\\n\\n------------------------------------------\\nQuestion: {question}\")\n",
    "    messages = [\n",
    "        {\n",
    "            \"role\": \"user\", \n",
    "            \"content\": f\"\"\"You are an astrophysics expert. Please answer the following question on astrophysics. \n",
    "            Question: {question}\"\"\"\n",
    "        }\n",
    "    ]\n",
    "    return llm_chain.invoke(\n",
    "        {\n",
    "            \"messages\": messages, \n",
    "            \"add_generation_prompt\": True, \n",
    "            \"eos_token\": \"<|endoftext|>\",\n",
    "        },\n",
    "        config={\n",
    "            'callbacks' : [StreamingStdOutCallbackHandler()]\n",
    "        }\n",
    "    )\n",
    "\n",
    "model = HuggingFaceEmbeddings(model_name=\"sentence-transformers/all-MiniLM-L6-v2\")\n",
    "\n",
    "# TODO: Fix module paths\n",
    "qdrant_path = \"resources/data/qdrant/scipy_qdrant/\"\n",
    "\n",
    "# TODO: Change collection name to \n",
    "qdrant_collection = \"arxiv_astro-ph_abstracts\"\n",
    "\n",
    "if os.path.exists(qdrant_path):\n",
    "    print(f\"Loading existing Qdrant collection '{qdrant_collection}'\")\n",
    "    \n",
    "    client = QdrantClient(path=qdrant_path)\n",
    "    \n",
    "    qdrant = Qdrant(\n",
    "        client=client,\n",
    "        collection_name=qdrant_collection,\n",
    "        embeddings=model\n",
    "    )\n",
    "\n",
    "retriever = qdrant.as_retriever(search_type=\"mmr\", search_kwargs={\"k\": 2})\n",
    "\n",
    "def format_docs(docs):\n",
    "    return \"\\n\\n\".join(doc.page_content for doc in docs)\n"
   ]
  },
  {
   "cell_type": "code",
   "execution_count": 3,
   "metadata": {},
   "outputs": [
    {
     "name": "stdout",
     "output_type": "stream",
     "text": [
      " Dark matter is a theoretical particle that, according to contemporary astrophysical observations, makes up approximately 80% of the total mass in the universe (1). This mysterious substance has no illuminating properties, meaning it does not emit, reflect, or refract light. In other words, dark matter is invisible to our current technology and understanding.\n",
      "\n",
      "While its properties are still largely unknown, scientists suggest that it may be made up of stars and black holes that have cooled down to the point where they do not emit light anymore (2). This idea, called the Warm Dark Matter (WDM) model, aims to provide a more comprehensive picture of dark matter's distribution and properties compared to the Cold Dark Matter (CDM) hypothesis.\n",
      "\n",
      "Despite numerous theories and research in this area, understanding the nature and origin of dark matter remains one of the greatest unsolved mysteries in cosmology today. This review is aimed at providing an accessible yet rigorous introduction for advanced students and researchers new to the field of dark matter, offering extensive references for further exploration (3).\n",
      "\n",
      "(1) \"Dark Matter: The Remnant Matter in the Universe\" by B. P. Lee et al., Journal of Cosmology and Astroparticle Physics, Vol. 8, No. 1, 2018;"
     ]
    },
    {
     "data": {
      "text/plain": [
       "' Dark matter is a theoretical particle that, according to contemporary astrophysical observations, makes up approximately 80% of the total mass in the universe (1). This mysterious substance has no illuminating properties, meaning it does not emit, reflect, or refract light. In other words, dark matter is invisible to our current technology and understanding.\\n\\nWhile its properties are still largely unknown, scientists suggest that it may be made up of stars and black holes that have cooled down to the point where they do not emit light anymore (2). This idea, called the Warm Dark Matter (WDM) model, aims to provide a more comprehensive picture of dark matter\\'s distribution and properties compared to the Cold Dark Matter (CDM) hypothesis.\\n\\nDespite numerous theories and research in this area, understanding the nature and origin of dark matter remains one of the greatest unsolved mysteries in cosmology today. This review is aimed at providing an accessible yet rigorous introduction for advanced students and researchers new to the field of dark matter, offering extensive references for further exploration (3).\\n\\n(1) \"Dark Matter: The Remnant Matter in the Universe\" by B. P. Lee et al., Journal of Cosmology and Astroparticle Physics, Vol. 8, No. 1, 2018;'"
      ]
     },
     "execution_count": 3,
     "metadata": {},
     "output_type": "execute_result"
    }
   ],
   "source": [
    "\n",
    "question = \"What is dark matter?\"\n",
    "\n",
    "context = format_docs(retriever.invoke(question))\n",
    "\n",
    "prompt_template.format(\n",
    "    messages=[\n",
    "        {\n",
    "            \"role\": \"user\", \n",
    "            \"content\": f\"\"\"You are an expert at astrophysics. Please answer the question on astrophysics based on the following context:\n",
    "\n",
    "            Context: {context}\n",
    "            \n",
    "            Question: {question}\"\"\"\n",
    "        }\n",
    "    ], \n",
    "    add_generation_prompt=True, \n",
    "    eos_token=\"<|endoftext|>\"\n",
    ")\n",
    "\n",
    "llm_chain = prompt_template | olmo\n",
    "\n",
    "llm_chain.invoke(\n",
    "    {\n",
    "        \"messages\":\n",
    "            [{\n",
    "                \"role\": \"user\", \n",
    "                \"content\": f\"\"\"You are an expert at astrophysics. Please answer the question on astrophysics based on the following context:\n",
    "    \n",
    "                Context: {context}\n",
    "                \n",
    "                Question: {question}\"\"\"\n",
    "            }\n",
    "        ], \n",
    "        \"add_generation_prompt\": True, \n",
    "        \"eos_token\": \"<|endoftext|>\",\n",
    "    },\n",
    "    config={\n",
    "        'callbacks' : [StreamingStdOutCallbackHandler()]\n",
    "    }\n",
    ")"
   ]
  },
  {
   "cell_type": "code",
   "execution_count": 4,
   "metadata": {},
   "outputs": [
    {
     "name": "stdout",
     "output_type": "stream",
     "text": [
      "Dark matter is a theoretical particle that exists within the framework of astronomical and cosmological physics, though it has not yet been directly detected through laboratory experiments or other means. Dark matter makes up approximately 85% of the matter in the universe, while visible matter (which includes stars, planets, gases, and dust) only accounts for about 5% of the total mass-energy density of the observable universe.\n",
      "\n",
      "This discrepancy between visible matter and dark matter is known as the \"missing mass\" problem. Dark matter is believed to interact with ordinary matter through gravity only, and it does not emit or absorb light, making its detection extremely challenging. Researchers use various methods, such as studying the motions of galaxies and their orbits around the center of the Milky Way, to infer the existence and properties of dark matter.\n",
      "\n",
      "Despite extensive searching over the last few decades, no direct evidence for dark matter particles has yet been discovered. However, the observation that dark matter makes up a significant fraction of the universe suggests its existence is a widely accepted concept within astrophysics."
     ]
    },
    {
     "data": {
      "text/plain": [
       "'Dark matter is a theoretical particle that exists within the framework of astronomical and cosmological physics, though it has not yet been directly detected through laboratory experiments or other means. Dark matter makes up approximately 85% of the matter in the universe, while visible matter (which includes stars, planets, gases, and dust) only accounts for about 5% of the total mass-energy density of the observable universe.\\n\\nThis discrepancy between visible matter and dark matter is known as the \"missing mass\" problem. Dark matter is believed to interact with ordinary matter through gravity only, and it does not emit or absorb light, making its detection extremely challenging. Researchers use various methods, such as studying the motions of galaxies and their orbits around the center of the Milky Way, to infer the existence and properties of dark matter.\\n\\nDespite extensive searching over the last few decades, no direct evidence for dark matter particles has yet been discovered. However, the observation that dark matter makes up a significant fraction of the universe suggests its existence is a widely accepted concept within astrophysics.'"
      ]
     },
     "execution_count": 4,
     "metadata": {},
     "output_type": "execute_result"
    }
   ],
   "source": [
    "\n",
    "question = \"What is dark matter?\"\n",
    "\n",
    "prompt_template.format(\n",
    "    messages=[\n",
    "        {\n",
    "            \"role\": \"user\", \n",
    "            \"content\": f\"\"\"You are an expert at astrophysics. Please answer the question on astrophysics. \n",
    "            Question: {question}\"\"\"\n",
    "        }\n",
    "    ], \n",
    "    add_generation_prompt=True, \n",
    "    eos_token=\"<|endoftext|>\"\n",
    ")\n",
    "\n",
    "llm_chain.invoke(\n",
    "    {\n",
    "        \"messages\":\n",
    "        [\n",
    "            {\n",
    "                \"role\": \"user\", \n",
    "                \"content\": f\"\"\"You are an expert at astrophysics. Please answer the question on astrophysics. \n",
    "                Question: {question}\"\"\"\n",
    "            }\n",
    "        ], \n",
    "        \"add_generation_prompt\": True, \n",
    "        \"eos_token\": \"<|endoftext|>\",\n",
    "    },\n",
    "    config={\n",
    "        'callbacks' : [StreamingStdOutCallbackHandler()]\n",
    "    }\n",
    ")"
   ]
  },
  {
   "cell_type": "code",
   "execution_count": null,
   "metadata": {},
   "outputs": [],
   "source": [
    "# TODO: Fix module paths\n",
    "qdrant_path2 = \"resources/data/qdrant/usrse_qdrant/\"\n",
    "\n",
    "# TODO: Change collection name to \n",
    "qdrant_collection2 = \"astropy_docs\"\n",
    "\n",
    "if os.path.exists(qdrant_path):\n",
    "    print(f\"Loading existing Qdrant collection '{qdrant_collection2}'\")\n",
    "    \n",
    "    client2 = QdrantClient(path=qdrant_path2)\n",
    "    \n",
    "    qdrant2 = Qdrant(\n",
    "        client=client2,\n",
    "        collection_name=qdrant_collection2,\n",
    "        embeddings=model\n",
    "    )\n"
   ]
  },
  {
   "cell_type": "code",
   "execution_count": null,
   "metadata": {},
   "outputs": [],
   "source": [
    "\n",
    "retriever = qdrant2.as_retriever(search_type=\"mmr\", search_kwargs={\"k\": 2})\n",
    "\n",
    "def format_docs(docs):\n",
    "    return \"\\n\\n\".join(doc.page_content for doc in docs[0])\n",
    "    #return \"\\n\\n\".join(doc.page_content for doc in docs)\n",
    "\n",
    "\n",
    "\n",
    "question = \"How can I perform celestial coordinate transformations?\"\n"
   ]
  },
  {
   "cell_type": "code",
   "execution_count": null,
   "metadata": {},
   "outputs": [],
   "source": [
    "docs = retriever.invoke(question)\n",
    "\n",
    "context = format_docs(retriever.invoke(question))"
   ]
  },
  {
   "cell_type": "code",
   "execution_count": null,
   "metadata": {},
   "outputs": [],
   "source": [
    "docs[0]"
   ]
  },
  {
   "cell_type": "code",
   "execution_count": null,
   "metadata": {},
   "outputs": [],
   "source": [
    "len(context.split()) *3"
   ]
  },
  {
   "cell_type": "code",
   "execution_count": null,
   "metadata": {},
   "outputs": [],
   "source": [
    "\n",
    "context = retriever.invoke(question)[0]\n",
    "\n",
    "print(len(prompt_template.format(\n",
    "    messages=[\n",
    "        {\n",
    "            \"role\": \"user\", \n",
    "            \"content\": f\"\"\"You are an expert at the astrophysics package Astropy. Please answer the question on Astropy based on the following context:\n",
    "\n",
    "            Context: {context}\n",
    "            \n",
    "            Question: {question}\"\"\"\n",
    "        }\n",
    "    ], \n",
    "    add_generation_prompt=True, \n",
    "    eos_token=\"<|endoftext|>\"\n",
    ").split()))\n",
    "\n",
    "print(prompt_template.template)"
   ]
  },
  {
   "cell_type": "code",
   "execution_count": null,
   "metadata": {},
   "outputs": [],
   "source": [
    "\n",
    "llm_chain = prompt_template | olmo\n"
   ]
  },
  {
   "cell_type": "code",
   "execution_count": null,
   "metadata": {},
   "outputs": [],
   "source": [
    "print(llm_chain)"
   ]
  },
  {
   "cell_type": "code",
   "execution_count": null,
   "metadata": {},
   "outputs": [],
   "source": [
    "\n",
    "# llm_chain.invoke(\n",
    "#     {\n",
    "#         \"messages\":\n",
    "#             [\n",
    "#         ], \n",
    "#         \"add_generation_prompt\": True, \n",
    "#         \"eos_token\": \"<|endoftext|>\",\n",
    "#     },\n",
    "#     config={\n",
    "#         'callbacks' : [StreamingStdOutCallbackHandler()]\n",
    "#     }\n",
    "# )\n",
    "\n",
    "from langchain.retrievers import ContextualCompressionRetriever\n",
    "from langchain.retrievers.document_compressors import LLMChainExtractor\n",
    "\n",
    "\n",
    "compressor = LLMChainExtractor.from_llm(olmo)\n",
    "\n",
    "compression_retriever = ContextualCompressionRetriever(\n",
    "    base_compressor=compressor, base_retriever=retriever\n",
    ")\n",
    "\n",
    "compressed_docs = compression_retriever.invoke(\"How can I perform celestial coordinate transformations?\")\n",
    "\n"
   ]
  },
  {
   "cell_type": "code",
   "execution_count": null,
   "metadata": {},
   "outputs": [],
   "source": [
    "\n",
    "\n",
    "\n",
    "llm_chain.invoke(\n",
    "    {\n",
    "        \"messages\":\n",
    "            [{\n",
    "                \"role\": \"user\", \n",
    "                \"content\": f\"\"\"You are an expert at the astrophysics package Astropy. Please answer the question on Astropy based on the following context:\n",
    "    \n",
    "                Context: {context}\n",
    "                \n",
    "                Question: {question}\"\"\"\n",
    "            }\n",
    "        ], \n",
    "        \"add_generation_prompt\": True, \n",
    "        \"eos_token\": \"<|endoftext|>\",\n",
    "    },\n",
    "    config={\n",
    "        'callbacks' : [StreamingStdOutCallbackHandler()]\n",
    "    }\n",
    ")"
   ]
  },
  {
   "cell_type": "markdown",
   "metadata": {},
   "source": [
    "\n",
    "## Retrieving Github docs\n"
   ]
  },
  {
   "cell_type": "markdown",
   "metadata": {},
   "source": [
    "\n",
    "## Vectorization and Embedding\n"
   ]
  },
  {
   "cell_type": "markdown",
   "metadata": {},
   "source": [
    "\n",
    "## Retrieval\n"
   ]
  },
  {
   "cell_type": "markdown",
   "metadata": {},
   "source": [
    "\n",
    "## Prompting\n"
   ]
  },
  {
   "cell_type": "markdown",
   "metadata": {},
   "source": [
    "\n",
    "## Final Results\n"
   ]
  },
  {
   "cell_type": "markdown",
   "metadata": {},
   "source": [
    "\n",
    "## To see more, visit SSEC Tutorials! :D <3"
   ]
  },
  {
   "cell_type": "markdown",
   "metadata": {},
   "source": []
  }
 ],
 "metadata": {
  "kernelspec": {
   "display_name": "ssec-usrse2024",
   "language": "python",
   "name": "python3"
  },
  "language_info": {
   "codemirror_mode": {
    "name": "ipython",
    "version": 3
   },
   "file_extension": ".py",
   "mimetype": "text/x-python",
   "name": "python",
   "nbconvert_exporter": "python",
   "pygments_lexer": "ipython3",
   "version": "3.11.9"
  }
 },
 "nbformat": 4,
 "nbformat_minor": 2
}
